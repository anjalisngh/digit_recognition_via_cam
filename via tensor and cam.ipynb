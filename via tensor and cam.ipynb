{
 "cells": [
  {
   "cell_type": "code",
   "execution_count": 1,
   "metadata": {},
   "outputs": [],
   "source": [
    "import tensorflow as tf\n",
    "tf.__version__\n",
    "import keras\n",
    "from tensorflow.keras.callbacks import TensorBoard"
   ]
  },
  {
   "cell_type": "code",
   "execution_count": 2,
   "metadata": {},
   "outputs": [],
   "source": [
    "mnist= tf.keras.datasets.mnist"
   ]
  },
  {
   "cell_type": "code",
   "execution_count": 3,
   "metadata": {},
   "outputs": [],
   "source": [
    "(x_train,y_train), (x_test,y_test) =mnist.load_data()"
   ]
  },
  {
   "cell_type": "code",
   "execution_count": 4,
   "metadata": {},
   "outputs": [
    {
     "name": "stdout",
     "output_type": "stream",
     "text": [
      "training data shape is {} (60000, 28, 28)\n",
      "training label shape is {} (60000,)\n",
      "testing data shape is {} (10000, 28, 28)\n",
      "testing label shape is {} (10000,)\n"
     ]
    }
   ],
   "source": [
    "print(\"training data shape is {}\", format(x_train.shape))\n",
    "print(\"training label shape is {}\", format(y_train.shape))\n",
    "print(\"testing data shape is {}\", format(x_test.shape))\n",
    "print(\"testing label shape is {}\", format(y_test.shape))"
   ]
  },
  {
   "cell_type": "code",
   "execution_count": 5,
   "metadata": {},
   "outputs": [
    {
     "name": "stdout",
     "output_type": "stream",
     "text": [
      "Collecting package metadata (current_repodata.json): ...working... done\n",
      "Solving environment: ...working... done\n",
      "\n",
      "## Package Plan ##\n",
      "\n",
      "  environment location: C:\\Users\\KIIT\\anaconda3\\envs\\tensorflow\n",
      "\n",
      "  added / updated specs:\n",
      "    - matplotlib\n",
      "\n",
      "\n",
      "The following packages will be UPDATED:\n",
      "\n",
      "  ca-certificates    conda-forge::ca-certificates-2020.12.~ --> pkgs/main::ca-certificates-2020.12.8-haa95532_0\n",
      "\n",
      "The following packages will be SUPERSEDED by a higher-priority channel:\n",
      "\n",
      "  certifi            conda-forge::certifi-2020.12.5-py38ha~ --> pkgs/main::certifi-2020.12.5-py38haa95532_0\n",
      "  openssl            conda-forge::openssl-1.1.1i-h8ffe710_0 --> pkgs/main::openssl-1.1.1i-h2bbff1b_0\n",
      "\n",
      "\n",
      "Preparing transaction: ...working... done\n",
      "Verifying transaction: ...working... done\n",
      "Executing transaction: ...working... done\n"
     ]
    }
   ],
   "source": [
    "import sys\n",
    "!conda install --yes --prefix {sys.prefix} matplotlib"
   ]
  },
  {
   "cell_type": "code",
   "execution_count": 6,
   "metadata": {},
   "outputs": [],
   "source": [
    "import matplotlib.pyplot as plt"
   ]
  },
  {
   "cell_type": "code",
   "execution_count": 7,
   "metadata": {},
   "outputs": [
    {
     "name": "stdout",
     "output_type": "stream",
     "text": [
      "[[  0   0   0   0   0   0   0   0   0   0   0   0   0   0   0   0   0   0\n",
      "    0   0   0   0   0   0   0   0   0   0]\n",
      " [  0   0   0   0   0   0   0   0   0   0   0   0   0   0   0   0   0   0\n",
      "    0   0   0   0   0   0   0   0   0   0]\n",
      " [  0   0   0   0   0   0   0   0   0   0   0   0   0   0   0   0   0   0\n",
      "    0   0   0   0   0   0   0   0   0   0]\n",
      " [  0   0   0   0   0   0   0   0   0   0   0   0   0   0   0   0   0   0\n",
      "    0   0   0   0   0   0   0   0   0   0]\n",
      " [  0   0   0   0   0   0   0   0   0   0   0   0   0   0   0  51 159 253\n",
      "  159  50   0   0   0   0   0   0   0   0]\n",
      " [  0   0   0   0   0   0   0   0   0   0   0   0   0   0  48 238 252 252\n",
      "  252 237   0   0   0   0   0   0   0   0]\n",
      " [  0   0   0   0   0   0   0   0   0   0   0   0   0  54 227 253 252 239\n",
      "  233 252  57   6   0   0   0   0   0   0]\n",
      " [  0   0   0   0   0   0   0   0   0   0   0  10  60 224 252 253 252 202\n",
      "   84 252 253 122   0   0   0   0   0   0]\n",
      " [  0   0   0   0   0   0   0   0   0   0   0 163 252 252 252 253 252 252\n",
      "   96 189 253 167   0   0   0   0   0   0]\n",
      " [  0   0   0   0   0   0   0   0   0   0  51 238 253 253 190 114 253 228\n",
      "   47  79 255 168   0   0   0   0   0   0]\n",
      " [  0   0   0   0   0   0   0   0   0  48 238 252 252 179  12  75 121  21\n",
      "    0   0 253 243  50   0   0   0   0   0]\n",
      " [  0   0   0   0   0   0   0   0  38 165 253 233 208  84   0   0   0   0\n",
      "    0   0 253 252 165   0   0   0   0   0]\n",
      " [  0   0   0   0   0   0   0   7 178 252 240  71  19  28   0   0   0   0\n",
      "    0   0 253 252 195   0   0   0   0   0]\n",
      " [  0   0   0   0   0   0   0  57 252 252  63   0   0   0   0   0   0   0\n",
      "    0   0 253 252 195   0   0   0   0   0]\n",
      " [  0   0   0   0   0   0   0 198 253 190   0   0   0   0   0   0   0   0\n",
      "    0   0 255 253 196   0   0   0   0   0]\n",
      " [  0   0   0   0   0   0  76 246 252 112   0   0   0   0   0   0   0   0\n",
      "    0   0 253 252 148   0   0   0   0   0]\n",
      " [  0   0   0   0   0   0  85 252 230  25   0   0   0   0   0   0   0   0\n",
      "    7 135 253 186  12   0   0   0   0   0]\n",
      " [  0   0   0   0   0   0  85 252 223   0   0   0   0   0   0   0   0   7\n",
      "  131 252 225  71   0   0   0   0   0   0]\n",
      " [  0   0   0   0   0   0  85 252 145   0   0   0   0   0   0   0  48 165\n",
      "  252 173   0   0   0   0   0   0   0   0]\n",
      " [  0   0   0   0   0   0  86 253 225   0   0   0   0   0   0 114 238 253\n",
      "  162   0   0   0   0   0   0   0   0   0]\n",
      " [  0   0   0   0   0   0  85 252 249 146  48  29  85 178 225 253 223 167\n",
      "   56   0   0   0   0   0   0   0   0   0]\n",
      " [  0   0   0   0   0   0  85 252 252 252 229 215 252 252 252 196 130   0\n",
      "    0   0   0   0   0   0   0   0   0   0]\n",
      " [  0   0   0   0   0   0  28 199 252 252 253 252 252 233 145   0   0   0\n",
      "    0   0   0   0   0   0   0   0   0   0]\n",
      " [  0   0   0   0   0   0   0  25 128 252 253 252 141  37   0   0   0   0\n",
      "    0   0   0   0   0   0   0   0   0   0]\n",
      " [  0   0   0   0   0   0   0   0   0   0   0   0   0   0   0   0   0   0\n",
      "    0   0   0   0   0   0   0   0   0   0]\n",
      " [  0   0   0   0   0   0   0   0   0   0   0   0   0   0   0   0   0   0\n",
      "    0   0   0   0   0   0   0   0   0   0]\n",
      " [  0   0   0   0   0   0   0   0   0   0   0   0   0   0   0   0   0   0\n",
      "    0   0   0   0   0   0   0   0   0   0]\n",
      " [  0   0   0   0   0   0   0   0   0   0   0   0   0   0   0   0   0   0\n",
      "    0   0   0   0   0   0   0   0   0   0]]\n"
     ]
    }
   ],
   "source": [
    "print(x_train[1])"
   ]
  },
  {
   "cell_type": "code",
   "execution_count": 8,
   "metadata": {},
   "outputs": [
    {
     "data": {
      "text/plain": [
       "<matplotlib.image.AxesImage at 0x1a6ea0fde50>"
      ]
     },
     "execution_count": 8,
     "metadata": {},
     "output_type": "execute_result"
    },
    {
     "data": {
      "image/png": "[encoded data removed]",
      "text/plain": [
       "<Figure size 432x288 with 1 Axes>"
      ]
     },
     "metadata": {
      "needs_background": "light"
     },
     "output_type": "display_data"
    }
   ],
   "source": [
    "plt.imshow(x_train[0])\n"
   ]
  },
  {
   "cell_type": "code",
   "execution_count": 9,
   "metadata": {},
   "outputs": [
    {
     "name": "stdout",
     "output_type": "stream",
     "text": [
      "sample training label is  [5]\n"
     ]
    }
   ],
   "source": [
    "print(\"sample training label is \", format(y_train[0:1]))"
   ]
  },
  {
   "cell_type": "code",
   "execution_count": 10,
   "metadata": {},
   "outputs": [
    {
     "data": {
      "image/png": "[encoded data removed]",
      "text/plain": [
       "<Figure size 432x288 with 1 Axes>"
      ]
     },
     "metadata": {
      "needs_background": "light"
     },
     "output_type": "display_data"
    },
    {
     "data": {
      "image/png": "[encoded data removed]",
      "text/plain": [
       "<Figure size 432x288 with 1 Axes>"
      ]
     },
     "metadata": {
      "needs_background": "light"
     },
     "output_type": "display_data"
    },
    {
     "data": {
      "image/png": "[encoded data removed]",
      "text/plain": [
       "<Figure size 432x288 with 1 Axes>"
      ]
     },
     "metadata": {
      "needs_background": "light"
     },
     "output_type": "display_data"
    },
    {
     "data": {
      "image/png": "[encoded data removed]",
      "text/plain": [
       "<Figure size 432x288 with 1 Axes>"
      ]
     },
     "metadata": {
      "needs_background": "light"
     },
     "output_type": "display_data"
    },
    {
     "data": {
      "image/png": "[encoded data removed]",
      "text/plain": [
       "<Figure size 432x288 with 1 Axes>"
      ]
     },
     "metadata": {
      "needs_background": "light"
     },
     "output_type": "display_data"
    }
   ],
   "source": [
    "for i in range(0,5):\n",
    "    plt.imshow(x_train[i], cmap= plt.cm.binary)\n",
    "    plt.show()"
   ]
  },
  {
   "cell_type": "code",
   "execution_count": 11,
   "metadata": {},
   "outputs": [],
   "source": [
    "x_train=  tf.keras.utils.normalize(x_train,axis=1)\n",
    "x_test=  tf.keras.utils.normalize(x_test,axis=1)"
   ]
  },
  {
   "cell_type": "code",
   "execution_count": 12,
   "metadata": {},
   "outputs": [
    {
     "data": {
      "text/plain": [
       "<matplotlib.image.AxesImage at 0x1a6e5f1d790>"
      ]
     },
     "execution_count": 12,
     "metadata": {},
     "output_type": "execute_result"
    },
    {
     "data": {
      "image/png": "[encoded data removed]",
      "text/plain": [
       "<Figure size 432x288 with 1 Axes>"
      ]
     },
     "metadata": {
      "needs_background": "light"
     },
     "output_type": "display_data"
    }
   ],
   "source": [
    "plt.imshow(x_train[1], cmap= plt.cm.binary)"
   ]
  },
  {
   "cell_type": "code",
   "execution_count": 13,
   "metadata": {},
   "outputs": [
    {
     "name": "stdout",
     "output_type": "stream",
     "text": [
      "[[0.         0.         0.         0.         0.         0.\n",
      "  0.         0.         0.         0.         0.         0.\n",
      "  0.         0.         0.         0.         0.         0.\n",
      "  0.         0.         0.         0.         0.         0.\n",
      "  0.         0.         0.         0.        ]\n",
      " [0.         0.         0.         0.         0.         0.\n",
      "  0.         0.         0.         0.         0.         0.\n",
      "  0.         0.         0.         0.         0.         0.\n",
      "  0.         0.         0.         0.         0.         0.\n",
      "  0.         0.         0.         0.        ]\n",
      " [0.         0.         0.         0.         0.         0.\n",
      "  0.         0.         0.         0.         0.         0.\n",
      "  0.         0.         0.         0.         0.         0.\n",
      "  0.         0.         0.         0.         0.         0.\n",
      "  0.         0.         0.         0.        ]\n",
      " [0.         0.         0.         0.         0.         0.\n",
      "  0.         0.         0.         0.         0.         0.\n",
      "  0.         0.         0.         0.         0.         0.\n",
      "  0.         0.         0.         0.         0.         0.\n",
      "  0.         0.         0.         0.        ]\n",
      " [0.         0.         0.         0.         0.         0.\n",
      "  0.         0.         0.         0.         0.         0.\n",
      "  0.         0.         0.         0.         0.         0.\n",
      "  0.         0.         0.         0.         0.         0.\n",
      "  0.         0.         0.         0.        ]\n",
      " [0.         0.         0.         0.         0.         0.\n",
      "  0.         0.         0.         0.         0.         0.\n",
      "  0.00393124 0.02332955 0.02620568 0.02625207 0.17420356 0.17566281\n",
      "  0.28629534 0.05664824 0.51877786 0.71632322 0.77892406 0.89301644\n",
      "  0.         0.         0.         0.        ]\n",
      " [0.         0.         0.         0.         0.         0.\n",
      "  0.         0.         0.05780486 0.06524513 0.16128198 0.22713296\n",
      "  0.22277047 0.32790981 0.36833534 0.3689874  0.34978968 0.32678448\n",
      "  0.368094   0.3747499  0.79066747 0.67980478 0.61494005 0.45002403\n",
      "  0.         0.         0.         0.        ]\n",
      " [0.         0.         0.         0.         0.         0.\n",
      "  0.         0.12250613 0.45858525 0.45852825 0.43408872 0.37314701\n",
      "  0.33153488 0.32790981 0.36833534 0.3689874  0.34978968 0.32420121\n",
      "  0.15214552 0.17865984 0.25626376 0.1573102  0.12298801 0.\n",
      "  0.         0.         0.         0.        ]\n",
      " [0.         0.         0.         0.         0.         0.\n",
      "  0.         0.04500225 0.4219755  0.45852825 0.43408872 0.37314701\n",
      "  0.33153488 0.32790981 0.28826244 0.26543758 0.34149427 0.31128482\n",
      "  0.         0.         0.         0.         0.         0.\n",
      "  0.         0.         0.         0.        ]\n",
      " [0.         0.         0.         0.         0.         0.\n",
      "  0.         0.         0.1541463  0.28272888 0.18358693 0.37314701\n",
      "  0.33153488 0.26569767 0.01601458 0.         0.05945042 0.19891229\n",
      "  0.         0.         0.         0.         0.         0.\n",
      "  0.         0.         0.         0.        ]\n",
      " [0.         0.         0.         0.         0.         0.\n",
      "  0.         0.         0.         0.0253731  0.00171577 0.22713296\n",
      "  0.33153488 0.11664776 0.         0.         0.         0.\n",
      "  0.         0.         0.         0.         0.         0.\n",
      "  0.         0.         0.         0.        ]\n",
      " [0.         0.         0.         0.         0.         0.\n",
      "  0.         0.         0.         0.         0.         0.20500962\n",
      "  0.33153488 0.24625638 0.00291174 0.         0.         0.\n",
      "  0.         0.         0.         0.         0.         0.\n",
      "  0.         0.         0.         0.        ]\n",
      " [0.         0.         0.         0.         0.         0.\n",
      "  0.         0.         0.         0.         0.         0.01622378\n",
      "  0.24897876 0.32790981 0.10191096 0.         0.         0.\n",
      "  0.         0.         0.         0.         0.         0.\n",
      "  0.         0.         0.         0.        ]\n",
      " [0.         0.         0.         0.         0.         0.\n",
      "  0.         0.         0.         0.         0.         0.\n",
      "  0.04586451 0.31235677 0.32757096 0.23335172 0.14931733 0.00129164\n",
      "  0.         0.         0.         0.         0.         0.\n",
      "  0.         0.         0.         0.        ]\n",
      " [0.         0.         0.         0.         0.         0.\n",
      "  0.         0.         0.         0.         0.         0.\n",
      "  0.         0.10498298 0.34940902 0.3689874  0.34978968 0.15370495\n",
      "  0.04089933 0.         0.         0.         0.         0.\n",
      "  0.         0.         0.         0.        ]\n",
      " [0.         0.         0.         0.         0.         0.\n",
      "  0.         0.         0.         0.         0.         0.\n",
      "  0.         0.         0.06551419 0.27127137 0.34978968 0.32678448\n",
      "  0.245396   0.05882702 0.         0.         0.         0.\n",
      "  0.         0.         0.         0.        ]\n",
      " [0.         0.         0.         0.         0.         0.\n",
      "  0.         0.         0.         0.         0.         0.\n",
      "  0.         0.         0.         0.02333517 0.12857881 0.32549285\n",
      "  0.41390126 0.40743158 0.         0.         0.         0.\n",
      "  0.         0.         0.         0.        ]\n",
      " [0.         0.         0.         0.         0.         0.\n",
      "  0.         0.         0.         0.         0.         0.\n",
      "  0.         0.         0.         0.         0.         0.32161793\n",
      "  0.41390126 0.54251585 0.20001074 0.         0.         0.\n",
      "  0.         0.         0.         0.        ]\n",
      " [0.         0.         0.         0.         0.         0.\n",
      "  0.         0.         0.         0.         0.         0.\n",
      "  0.         0.         0.06697006 0.18959827 0.25300993 0.32678448\n",
      "  0.41390126 0.45100715 0.00625034 0.         0.         0.\n",
      "  0.         0.         0.         0.        ]\n",
      " [0.         0.         0.         0.         0.         0.\n",
      "  0.         0.         0.         0.         0.         0.\n",
      "  0.05110617 0.19182076 0.33339444 0.3689874  0.34978968 0.32678448\n",
      "  0.40899334 0.39653769 0.         0.         0.         0.\n",
      "  0.         0.         0.         0.        ]\n",
      " [0.         0.         0.         0.         0.         0.\n",
      "  0.         0.         0.         0.         0.04117838 0.16813739\n",
      "  0.28960162 0.32790981 0.36833534 0.3689874  0.34978968 0.25961929\n",
      "  0.12760592 0.         0.         0.         0.         0.\n",
      "  0.         0.         0.         0.        ]\n",
      " [0.         0.         0.         0.         0.         0.\n",
      "  0.         0.         0.04431706 0.11961607 0.36545809 0.37314701\n",
      "  0.33153488 0.32790981 0.36833534 0.28877275 0.111988   0.00258328\n",
      "  0.         0.         0.         0.         0.         0.\n",
      "  0.         0.         0.         0.        ]\n",
      " [0.         0.         0.         0.         0.         0.\n",
      "  0.05298497 0.42752138 0.4219755  0.45852825 0.43408872 0.37314701\n",
      "  0.33153488 0.25273681 0.11646967 0.01312603 0.         0.\n",
      "  0.         0.         0.         0.         0.         0.\n",
      "  0.         0.         0.         0.        ]\n",
      " [0.         0.         0.         0.         0.37491383 0.56222061\n",
      "  0.66525569 0.63253163 0.48748768 0.45852825 0.43408872 0.359873\n",
      "  0.17428513 0.01425695 0.         0.         0.         0.\n",
      "  0.         0.         0.         0.         0.         0.\n",
      "  0.         0.         0.         0.        ]\n",
      " [0.         0.         0.         0.         0.92705966 0.82698729\n",
      "  0.74473314 0.63253163 0.4084877  0.24466922 0.22648107 0.02359823\n",
      "  0.         0.         0.         0.         0.         0.\n",
      "  0.         0.         0.         0.         0.         0.\n",
      "  0.         0.         0.         0.        ]\n",
      " [0.         0.         0.         0.         0.         0.\n",
      "  0.         0.         0.         0.         0.         0.\n",
      "  0.         0.         0.         0.         0.         0.\n",
      "  0.         0.         0.         0.         0.         0.\n",
      "  0.         0.         0.         0.        ]\n",
      " [0.         0.         0.         0.         0.         0.\n",
      "  0.         0.         0.         0.         0.         0.\n",
      "  0.         0.         0.         0.         0.         0.\n",
      "  0.         0.         0.         0.         0.         0.\n",
      "  0.         0.         0.         0.        ]\n",
      " [0.         0.         0.         0.         0.         0.\n",
      "  0.         0.         0.         0.         0.         0.\n",
      "  0.         0.         0.         0.         0.         0.\n",
      "  0.         0.         0.         0.         0.         0.\n",
      "  0.         0.         0.         0.        ]]\n"
     ]
    }
   ],
   "source": [
    "print(x_train[0])"
   ]
  },
  {
   "cell_type": "code",
   "execution_count": 14,
   "metadata": {},
   "outputs": [],
   "source": [
    "model= tf.keras.models.Sequential()"
   ]
  },
  {
   "cell_type": "code",
   "execution_count": 15,
   "metadata": {},
   "outputs": [],
   "source": [
    "model.add(tf.keras.layers.Flatten())"
   ]
  },
  {
   "cell_type": "code",
   "execution_count": 16,
   "metadata": {},
   "outputs": [],
   "source": [
    "model.add(tf.keras.layers.Dense(128, activation=tf.nn.relu))\n",
    "model.add(tf.keras.layers.Dense(128, activation=tf.nn.relu))\n",
    "model.add(tf.keras.layers.Dense(10, activation=tf.nn.softmax))"
   ]
  },
  {
   "cell_type": "code",
   "execution_count": 17,
   "metadata": {},
   "outputs": [],
   "source": [
    "model.compile( optimizer='adam',\n",
    "               loss='sparse_categorical_crossentropy',\n",
    "              metrics=['accuracy'])"
   ]
  },
  {
   "cell_type": "code",
   "execution_count": 18,
   "metadata": {},
   "outputs": [
    {
     "name": "stdout",
     "output_type": "stream",
     "text": [
      "Epoch 1/3\n",
      "1875/1875 [==============================] - 2s 1ms/step - loss: 0.2659 - accuracy: 0.9221\n",
      "Epoch 2/3\n",
      "1875/1875 [==============================] - 2s 1ms/step - loss: 0.1094 - accuracy: 0.9664\n",
      "Epoch 3/3\n",
      "1875/1875 [==============================] - 2s 1ms/step - loss: 0.0748 - accuracy: 0.9766\n"
     ]
    },
    {
     "data": {
      "text/plain": [
       "<tensorflow.python.keras.callbacks.History at 0x1a6e7088a30>"
      ]
     },
     "execution_count": 18,
     "metadata": {},
     "output_type": "execute_result"
    }
   ],
   "source": [
    "model.fit(x_train,y_train, epochs=3)"
   ]
  },
  {
   "cell_type": "code",
   "execution_count": 19,
   "metadata": {},
   "outputs": [
    {
     "name": "stdout",
     "output_type": "stream",
     "text": [
      "313/313 [==============================] - 0s 750us/step - loss: 0.0977 - accuracy: 0.9692\n",
      "0.09774641692638397 0.9692000150680542\n"
     ]
    }
   ],
   "source": [
    "val_loss, val_acc = model.evaluate(x_test, y_test)\n",
    "print(val_loss, val_acc)"
   ]
  },
  {
   "cell_type": "code",
   "execution_count": 20,
   "metadata": {},
   "outputs": [
    {
     "name": "stdout",
     "output_type": "stream",
     "text": [
      "WARNING:tensorflow:From C:\\Users\\KIIT\\anaconda3\\envs\\tensorflow\\lib\\site-packages\\tensorflow\\python\\training\\tracking\\tracking.py:111: Model.state_updates (from tensorflow.python.keras.engine.training) is deprecated and will be removed in a future version.\n",
      "Instructions for updating:\n",
      "This property should not be used in TensorFlow 2.0, as updates are applied automatically.\n",
      "WARNING:tensorflow:From C:\\Users\\KIIT\\anaconda3\\envs\\tensorflow\\lib\\site-packages\\tensorflow\\python\\training\\tracking\\tracking.py:111: Layer.updates (from tensorflow.python.keras.engine.base_layer) is deprecated and will be removed in a future version.\n",
      "Instructions for updating:\n",
      "This property should not be used in TensorFlow 2.0, as updates are applied automatically.\n",
      "INFO:tensorflow:Assets written to: num_read\\assets\n"
     ]
    }
   ],
   "source": [
    "model.save('num_read')"
   ]
  },
  {
   "cell_type": "code",
   "execution_count": 21,
   "metadata": {},
   "outputs": [],
   "source": [
    "new_model= tf.keras.models.load_model('num_read')"
   ]
  },
  {
   "cell_type": "code",
   "execution_count": 22,
   "metadata": {},
   "outputs": [
    {
     "name": "stdout",
     "output_type": "stream",
     "text": [
      "[[1.4369439e-11 1.4253123e-08 1.0235493e-06 ... 9.9999630e-01\n",
      "  7.0192168e-09 4.6643245e-09]\n",
      " [2.4133628e-09 5.1807615e-06 9.9999464e-01 ... 9.7503970e-11\n",
      "  5.6162364e-09 5.5144379e-14]\n",
      " [2.4000383e-07 9.9979299e-01 1.9785904e-05 ... 8.6212276e-05\n",
      "  4.6697944e-05 1.8134684e-06]\n",
      " ...\n",
      " [4.0853001e-09 9.9091096e-08 7.0587824e-08 ... 1.8177716e-05\n",
      "  1.2386736e-06 1.3095960e-04]\n",
      " [1.6469521e-06 1.8292288e-06 6.9251179e-08 ... 1.3175780e-06\n",
      "  5.3580577e-04 5.8436481e-08]\n",
      " [8.1401987e-07 2.1191896e-08 4.7324539e-07 ... 2.4761357e-10\n",
      "  1.9012215e-07 6.3928622e-09]]\n"
     ]
    }
   ],
   "source": [
    "predictions= new_model.predict(x_test)\n",
    "print(predictions)"
   ]
  },
  {
   "cell_type": "code",
   "execution_count": 23,
   "metadata": {},
   "outputs": [
    {
     "name": "stdout",
     "output_type": "stream",
     "text": [
      "7\n"
     ]
    }
   ],
   "source": [
    "import numpy as np\n",
    "print(np.argmax(predictions[0]))"
   ]
  },
  {
   "cell_type": "code",
   "execution_count": 24,
   "metadata": {},
   "outputs": [
    {
     "data": {
      "image/png": "[encoded data removed]",
      "text/plain": [
       "<Figure size 432x288 with 1 Axes>"
      ]
     },
     "metadata": {
      "needs_background": "light"
     },
     "output_type": "display_data"
    }
   ],
   "source": [
    "plt.imshow(x_test[0])\n",
    "plt.show()"
   ]
  },
  {
   "cell_type": "code",
   "execution_count": 25,
   "metadata": {},
   "outputs": [
    {
     "name": "stdout",
     "output_type": "stream",
     "text": [
      "2\n"
     ]
    }
   ],
   "source": [
    "print(np.argmax(predictions[1]))"
   ]
  },
  {
   "cell_type": "code",
   "execution_count": 26,
   "metadata": {},
   "outputs": [
    {
     "data": {
      "image/png": "[encoded data removed]",
      "text/plain": [
       "<Figure size 432x288 with 1 Axes>"
      ]
     },
     "metadata": {
      "needs_background": "light"
     },
     "output_type": "display_data"
    }
   ],
   "source": [
    "plt.imshow(x_test[1])\n",
    "plt.show()"
   ]
  },
  {
   "cell_type": "code",
   "execution_count": 27,
   "metadata": {},
   "outputs": [
    {
     "name": "stdout",
     "output_type": "stream",
     "text": [
      "4\n"
     ]
    }
   ],
   "source": [
    "print(np.argmax(predictions[6]))"
   ]
  },
  {
   "cell_type": "code",
   "execution_count": 28,
   "metadata": {},
   "outputs": [
    {
     "data": {
      "image/png": "[encoded data removed]",
      "text/plain": [
       "<Figure size 432x288 with 1 Axes>"
      ]
     },
     "metadata": {
      "needs_background": "light"
     },
     "output_type": "display_data"
    }
   ],
   "source": [
    "plt.imshow(x_test[6])\n",
    "plt.show()"
   ]
  },
  {
   "cell_type": "code",
   "execution_count": 29,
   "metadata": {},
   "outputs": [
    {
     "name": "stdout",
     "output_type": "stream",
     "text": [
      "Collecting package metadata (current_repodata.json): ...working... done\n",
      "Solving environment: ...working... done\n",
      "\n",
      "## Package Plan ##\n",
      "\n",
      "  environment location: C:\\Users\\KIIT\\anaconda3\\envs\\tensorflow\n",
      "\n",
      "  added / updated specs:\n",
      "    - opencv\n",
      "\n",
      "\n",
      "The following packages will be SUPERSEDED by a higher-priority channel:\n",
      "\n",
      "  ca-certificates    pkgs/main::ca-certificates-2020.12.8-~ --> conda-forge::ca-certificates-2020.12.5-h5b45459_0\n",
      "  certifi            pkgs/main::certifi-2020.12.5-py38haa9~ --> conda-forge::certifi-2020.12.5-py38haa244fe_0\n",
      "  openssl              pkgs/main::openssl-1.1.1i-h2bbff1b_0 --> conda-forge::openssl-1.1.1i-h8ffe710_0\n",
      "\n",
      "\n",
      "Preparing transaction: ...working... done\n",
      "Verifying transaction: ...working... done\n",
      "Executing transaction: ...working... done\n",
      "\n",
      "Note: you may need to restart the kernel to use updated packages.\n"
     ]
    }
   ],
   "source": [
    "conda install -c conda-forge opencv"
   ]
  },
  {
   "cell_type": "code",
   "execution_count": 30,
   "metadata": {},
   "outputs": [],
   "source": [
    "%matplotlib notebook\n",
    "\n",
    "import cv2\n",
    "import matplotlib.pyplot as plt\n",
    "import signal"
   ]
  },
  {
   "cell_type": "code",
   "execution_count": 31,
   "metadata": {},
   "outputs": [],
   "source": [
    "def signal_handler(signal, frame):\n",
    "    # KeyboardInterrupt detected, exiting\n",
    "    global is_interrupted\n",
    "    is_interrupted = True"
   ]
  },
  {
   "cell_type": "code",
   "execution_count": 32,
   "metadata": {},
   "outputs": [
    {
     "data": {
      "text/html": [
       "\n",
       "<video id=\"video\" width=\"320\" height=\"240\" autoplay></video>\n",
       "<button id=\"snap\">Snap Photo</button>\n",
       "<canvas id=\"canvas\" width=\"320\" height=\"240\"></canvas>\n",
       "\n",
       "<script>\n",
       "// Grab elements, create settings, etc.\n",
       "var video = document.getElementById('video');\n",
       "\n",
       "// Get access to the camera!\n",
       "if(navigator.mediaDevices && navigator.mediaDevices.getUserMedia) {\n",
       "    // Not adding `{ audio: true }` since we only want video now\n",
       "    navigator.mediaDevices.getUserMedia({ video: true }).then(function(stream) {\n",
       "        //video.src = window.URL.createObjectURL(stream);\n",
       "        //video.play();\n",
       "        video.srcObject=stream;\n",
       "        video.play();\n",
       "    });\n",
       "}\n",
       "\n",
       "// Elements for taking the snapshot\n",
       "var canvas = document.getElementById('canvas');\n",
       "var context = canvas.getContext('2d');\n",
       "var video = document.getElementById('video');\n",
       "\n",
       "// Trigger photo take\n",
       "document.getElementById(\"snap\").addEventListener(\"click\", function() {\n",
       "\tcontext.drawImage(video, 0, 0, 320, 240);\n",
       "    var myCanvas = document.getElementById('canvas');\n",
       "    var image = myCanvas.toDataURL(\"image/png\");\n",
       "    IPython.notebook.kernel.execute(\"print('testing')\")\n",
       "    IPython.notebook.kernel.execute(\"image = '\" + image + \"'\")\n",
       "});\n",
       "</script>\n",
       "\n"
      ],
      "text/plain": [
       "<IPython.core.display.HTML object>"
      ]
     },
     "execution_count": 32,
     "metadata": {},
     "output_type": "execute_result"
    }
   ],
   "source": [
    "from IPython.display import HTML\n",
    "\n",
    "main_text = \"\"\"\n",
    "<video id=\"video\" width=\"320\" height=\"240\" autoplay></video>\n",
    "<button id=\"snap\">Snap Photo</button>\n",
    "<canvas id=\"canvas\" width=\"320\" height=\"240\"></canvas>\n",
    "\n",
    "<script>\n",
    "// Grab elements, create settings, etc.\n",
    "var video = document.getElementById('video');\n",
    "\n",
    "// Get access to the camera!\n",
    "if(navigator.mediaDevices && navigator.mediaDevices.getUserMedia) {\n",
    "    // Not adding `{ audio: true }` since we only want video now\n",
    "    navigator.mediaDevices.getUserMedia({ video: true }).then(function(stream) {\n",
    "        //video.src = window.URL.createObjectURL(stream);\n",
    "        //video.play();\n",
    "        video.srcObject=stream;\n",
    "        video.play();\n",
    "    });\n",
    "}\n",
    "\n",
    "// Elements for taking the snapshot\n",
    "var canvas = document.getElementById('canvas');\n",
    "var context = canvas.getContext('2d');\n",
    "var video = document.getElementById('video');\n",
    "\n",
    "// Trigger photo take\n",
    "document.getElementById(\"snap\").addEventListener(\"click\", function() {\n",
    "\tcontext.drawImage(video, 0, 0, 320, 240);\n",
    "    var myCanvas = document.getElementById('canvas');\n",
    "    var image = myCanvas.toDataURL(\"image/png\");\n",
    "    IPython.notebook.kernel.execute(\"print('testing')\")\n",
    "    IPython.notebook.kernel.execute(\"image = '\" + image + \"'\")\n",
    "});\n",
    "</script>\n",
    "\n",
    "\"\"\"\n",
    "HTML(main_text)"
   ]
  },
  {
   "cell_type": "code",
   "execution_count": 46,
   "metadata": {},
   "outputs": [
    {
     "data": {
      "image/png": "[encoded data removed]",
      "text/plain": [
       "<PIL.Image.Image image mode=1 size=320x240 at 0x1A6E70885E0>"
      ]
     },
     "execution_count": 46,
     "metadata": {},
     "output_type": "execute_result"
    }
   ],
   "source": [
    "from PIL import Image\n",
    "import base64\n",
    "import io\n",
    "pil_im = Image.open(io.BytesIO(base64.b64decode(image.split(',')[1])))\n",
    "pil_im\n",
    "gray= pil_im.convert('L')\n",
    "bw= gray.point(lambda x: 0 if x<100 else 255,'1')\n",
    "bw.save(\"bw_image.jpg\")\n",
    "bw\n"
   ]
  },
  {
   "cell_type": "code",
   "execution_count": 47,
   "metadata": {},
   "outputs": [
    {
     "name": "stdout",
     "output_type": "stream",
     "text": [
      "76800\n"
     ]
    },
    {
     "data": {
      "application/javascript": [
       "/* Put everything inside the global mpl namespace */\n",
       "/* global mpl */\n",
       "window.mpl = {};\n",
       "\n",
       "mpl.get_websocket_type = function () {\n",
       "    if (typeof WebSocket !== 'undefined') {\n",
       "        return WebSocket;\n",
       "    } else if (typeof MozWebSocket !== 'undefined') {\n",
       "        return MozWebSocket;\n",
       "    } else {\n",
       "        alert(\n",
       "            'Your browser does not have WebSocket support. ' +\n",
       "                'Please try Chrome, Safari or Firefox ≥ 6. ' +\n",
       "                'Firefox 4 and 5 are also supported but you ' +\n",
       "                'have to enable WebSockets in about:config.'\n",
       "        );\n",
       "    }\n",
       "};\n",
       "\n",
       "mpl.figure = function (figure_id, websocket, ondownload, parent_element) {\n",
       "    this.id = figure_id;\n",
       "\n",
       "    this.ws = websocket;\n",
       "\n",
       "    this.supports_binary = this.ws.binaryType !== undefined;\n",
       "\n",
       "    if (!this.supports_binary) {\n",
       "        var warnings = document.getElementById('mpl-warnings');\n",
       "        if (warnings) {\n",
       "            warnings.style.display = 'block';\n",
       "            warnings.textContent =\n",
       "                'This browser does not support binary websocket messages. ' +\n",
       "                'Performance may be slow.';\n",
       "        }\n",
       "    }\n",
       "\n",
       "    this.imageObj = new Image();\n",
       "\n",
       "    this.context = undefined;\n",
       "    this.message = undefined;\n",
       "    this.canvas = undefined;\n",
       "    this.rubberband_canvas = undefined;\n",
       "    this.rubberband_context = undefined;\n",
       "    this.format_dropdown = undefined;\n",
       "\n",
       "    this.image_mode = 'full';\n",
       "\n",
       "    this.root = document.createElement('div');\n",
       "    this.root.setAttribute('style', 'display: inline-block');\n",
       "    this._root_extra_style(this.root);\n",
       "\n",
       "    parent_element.appendChild(this.root);\n",
       "\n",
       "    this._init_header(this);\n",
       "    this._init_canvas(this);\n",
       "    this._init_toolbar(this);\n",
       "\n",
       "    var fig = this;\n",
       "\n",
       "    this.waiting = false;\n",
       "\n",
       "    this.ws.onopen = function () {\n",
       "        fig.send_message('supports_binary', { value: fig.supports_binary });\n",
       "        fig.send_message('send_image_mode', {});\n",
       "        if (fig.ratio !== 1) {\n",
       "            fig.send_message('set_dpi_ratio', { dpi_ratio: fig.ratio });\n",
       "        }\n",
       "        fig.send_message('refresh', {});\n",
       "    };\n",
       "\n",
       "    this.imageObj.onload = function () {\n",
       "        if (fig.image_mode === 'full') {\n",
       "            // Full images could contain transparency (where diff images\n",
       "            // almost always do), so we need to clear the canvas so that\n",
       "            // there is no ghosting.\n",
       "            fig.context.clearRect(0, 0, fig.canvas.width, fig.canvas.height);\n",
       "        }\n",
       "        fig.context.drawImage(fig.imageObj, 0, 0);\n",
       "    };\n",
       "\n",
       "    this.imageObj.onunload = function () {\n",
       "        fig.ws.close();\n",
       "    };\n",
       "\n",
       "    this.ws.onmessage = this._make_on_message_function(this);\n",
       "\n",
       "    this.ondownload = ondownload;\n",
       "};\n",
       "\n",
       "mpl.figure.prototype._init_header = function () {\n",
       "    var titlebar = document.createElement('div');\n",
       "    titlebar.classList =\n",
       "        'ui-dialog-titlebar ui-widget-header ui-corner-all ui-helper-clearfix';\n",
       "    var titletext = document.createElement('div');\n",
       "    titletext.classList = 'ui-dialog-title';\n",
       "    titletext.setAttribute(\n",
       "        'style',\n",
       "        'width: 100%; text-align: center; padding: 3px;'\n",
       "    );\n",
       "    titlebar.appendChild(titletext);\n",
       "    this.root.appendChild(titlebar);\n",
       "    this.header = titletext;\n",
       "};\n",
       "\n",
       "mpl.figure.prototype._canvas_extra_style = function (_canvas_div) {};\n",
       "\n",
       "mpl.figure.prototype._root_extra_style = function (_canvas_div) {};\n",
       "\n",
       "mpl.figure.prototype._init_canvas = function () {\n",
       "    var fig = this;\n",
       "\n",
       "    var canvas_div = (this.canvas_div = document.createElement('div'));\n",
       "    canvas_div.setAttribute(\n",
       "        'style',\n",
       "        'border: 1px solid #ddd;' +\n",
       "            'box-sizing: content-box;' +\n",
       "            'clear: both;' +\n",
       "            'min-height: 1px;' +\n",
       "            'min-width: 1px;' +\n",
       "            'outline: 0;' +\n",
       "            'overflow: hidden;' +\n",
       "            'position: relative;' +\n",
       "            'resize: both;'\n",
       "    );\n",
       "\n",
       "    function on_keyboard_event_closure(name) {\n",
       "        return function (event) {\n",
       "            return fig.key_event(event, name);\n",
       "        };\n",
       "    }\n",
       "\n",
       "    canvas_div.addEventListener(\n",
       "        'keydown',\n",
       "        on_keyboard_event_closure('key_press')\n",
       "    );\n",
       "    canvas_div.addEventListener(\n",
       "        'keyup',\n",
       "        on_keyboard_event_closure('key_release')\n",
       "    );\n",
       "\n",
       "    this._canvas_extra_style(canvas_div);\n",
       "    this.root.appendChild(canvas_div);\n",
       "\n",
       "    var canvas = (this.canvas = document.createElement('canvas'));\n",
       "    canvas.classList.add('mpl-canvas');\n",
       "    canvas.setAttribute('style', 'box-sizing: content-box;');\n",
       "\n",
       "    this.context = canvas.getContext('2d');\n",
       "\n",
       "    var backingStore =\n",
       "        this.context.backingStorePixelRatio ||\n",
       "        this.context.webkitBackingStorePixelRatio ||\n",
       "        this.context.mozBackingStorePixelRatio ||\n",
       "        this.context.msBackingStorePixelRatio ||\n",
       "        this.context.oBackingStorePixelRatio ||\n",
       "        this.context.backingStorePixelRatio ||\n",
       "        1;\n",
       "\n",
       "    this.ratio = (window.devicePixelRatio || 1) / backingStore;\n",
       "    if (this.ratio !== 1) {\n",
       "        fig.send_message('set_dpi_ratio', { dpi_ratio: this.ratio });\n",
       "    }\n",
       "\n",
       "    var rubberband_canvas = (this.rubberband_canvas = document.createElement(\n",
       "        'canvas'\n",
       "    ));\n",
       "    rubberband_canvas.setAttribute(\n",
       "        'style',\n",
       "        'box-sizing: content-box; position: absolute; left: 0; top: 0; z-index: 1;'\n",
       "    );\n",
       "\n",
       "    var resizeObserver = new ResizeObserver(function (entries) {\n",
       "        var nentries = entries.length;\n",
       "        for (var i = 0; i < nentries; i++) {\n",
       "            var entry = entries[i];\n",
       "            var width, height;\n",
       "            if (entry.contentBoxSize) {\n",
       "                if (entry.contentBoxSize instanceof Array) {\n",
       "                    // Chrome 84 implements new version of spec.\n",
       "                    width = entry.contentBoxSize[0].inlineSize;\n",
       "                    height = entry.contentBoxSize[0].blockSize;\n",
       "                } else {\n",
       "                    // Firefox implements old version of spec.\n",
       "                    width = entry.contentBoxSize.inlineSize;\n",
       "                    height = entry.contentBoxSize.blockSize;\n",
       "                }\n",
       "            } else {\n",
       "                // Chrome <84 implements even older version of spec.\n",
       "                width = entry.contentRect.width;\n",
       "                height = entry.contentRect.height;\n",
       "            }\n",
       "\n",
       "            // Keep the size of the canvas and rubber band canvas in sync with\n",
       "            // the canvas container.\n",
       "            if (entry.devicePixelContentBoxSize) {\n",
       "                // Chrome 84 implements new version of spec.\n",
       "                canvas.setAttribute(\n",
       "                    'width',\n",
       "                    entry.devicePixelContentBoxSize[0].inlineSize\n",
       "                );\n",
       "                canvas.setAttribute(\n",
       "                    'height',\n",
       "                    entry.devicePixelContentBoxSize[0].blockSize\n",
       "                );\n",
       "            } else {\n",
       "                canvas.setAttribute('width', width * fig.ratio);\n",
       "                canvas.setAttribute('height', height * fig.ratio);\n",
       "            }\n",
       "            canvas.setAttribute(\n",
       "                'style',\n",
       "                'width: ' + width + 'px; height: ' + height + 'px;'\n",
       "            );\n",
       "\n",
       "            rubberband_canvas.setAttribute('width', width);\n",
       "            rubberband_canvas.setAttribute('height', height);\n",
       "\n",
       "            // And update the size in Python. We ignore the initial 0/0 size\n",
       "            // that occurs as the element is placed into the DOM, which should\n",
       "            // otherwise not happen due to the minimum size styling.\n",
       "            if (width != 0 && height != 0) {\n",
       "                fig.request_resize(width, height);\n",
       "            }\n",
       "        }\n",
       "    });\n",
       "    resizeObserver.observe(canvas_div);\n",
       "\n",
       "    function on_mouse_event_closure(name) {\n",
       "        return function (event) {\n",
       "            return fig.mouse_event(event, name);\n",
       "        };\n",
       "    }\n",
       "\n",
       "    rubberband_canvas.addEventListener(\n",
       "        'mousedown',\n",
       "        on_mouse_event_closure('button_press')\n",
       "    );\n",
       "    rubberband_canvas.addEventListener(\n",
       "        'mouseup',\n",
       "        on_mouse_event_closure('button_release')\n",
       "    );\n",
       "    // Throttle sequential mouse events to 1 every 20ms.\n",
       "    rubberband_canvas.addEventListener(\n",
       "        'mousemove',\n",
       "        on_mouse_event_closure('motion_notify')\n",
       "    );\n",
       "\n",
       "    rubberband_canvas.addEventListener(\n",
       "        'mouseenter',\n",
       "        on_mouse_event_closure('figure_enter')\n",
       "    );\n",
       "    rubberband_canvas.addEventListener(\n",
       "        'mouseleave',\n",
       "        on_mouse_event_closure('figure_leave')\n",
       "    );\n",
       "\n",
       "    canvas_div.addEventListener('wheel', function (event) {\n",
       "        if (event.deltaY < 0) {\n",
       "            event.step = 1;\n",
       "        } else {\n",
       "            event.step = -1;\n",
       "        }\n",
       "        on_mouse_event_closure('scroll')(event);\n",
       "    });\n",
       "\n",
       "    canvas_div.appendChild(canvas);\n",
       "    canvas_div.appendChild(rubberband_canvas);\n",
       "\n",
       "    this.rubberband_context = rubberband_canvas.getContext('2d');\n",
       "    this.rubberband_context.strokeStyle = '#000000';\n",
       "\n",
       "    this._resize_canvas = function (width, height, forward) {\n",
       "        if (forward) {\n",
       "            canvas_div.style.width = width + 'px';\n",
       "            canvas_div.style.height = height + 'px';\n",
       "        }\n",
       "    };\n",
       "\n",
       "    // Disable right mouse context menu.\n",
       "    this.rubberband_canvas.addEventListener('contextmenu', function (_e) {\n",
       "        event.preventDefault();\n",
       "        return false;\n",
       "    });\n",
       "\n",
       "    function set_focus() {\n",
       "        canvas.focus();\n",
       "        canvas_div.focus();\n",
       "    }\n",
       "\n",
       "    window.setTimeout(set_focus, 100);\n",
       "};\n",
       "\n",
       "mpl.figure.prototype._init_toolbar = function () {\n",
       "    var fig = this;\n",
       "\n",
       "    var toolbar = document.createElement('div');\n",
       "    toolbar.classList = 'mpl-toolbar';\n",
       "    this.root.appendChild(toolbar);\n",
       "\n",
       "    function on_click_closure(name) {\n",
       "        return function (_event) {\n",
       "            return fig.toolbar_button_onclick(name);\n",
       "        };\n",
       "    }\n",
       "\n",
       "    function on_mouseover_closure(tooltip) {\n",
       "        return function (event) {\n",
       "            if (!event.currentTarget.disabled) {\n",
       "                return fig.toolbar_button_onmouseover(tooltip);\n",
       "            }\n",
       "        };\n",
       "    }\n",
       "\n",
       "    fig.buttons = {};\n",
       "    var buttonGroup = document.createElement('div');\n",
       "    buttonGroup.classList = 'mpl-button-group';\n",
       "    for (var toolbar_ind in mpl.toolbar_items) {\n",
       "        var name = mpl.toolbar_items[toolbar_ind][0];\n",
       "        var tooltip = mpl.toolbar_items[toolbar_ind][1];\n",
       "        var image = mpl.toolbar_items[toolbar_ind][2];\n",
       "        var method_name = mpl.toolbar_items[toolbar_ind][3];\n",
       "\n",
       "        if (!name) {\n",
       "            /* Instead of a spacer, we start a new button group. */\n",
       "            if (buttonGroup.hasChildNodes()) {\n",
       "                toolbar.appendChild(buttonGroup);\n",
       "            }\n",
       "            buttonGroup = document.createElement('div');\n",
       "            buttonGroup.classList = 'mpl-button-group';\n",
       "            continue;\n",
       "        }\n",
       "\n",
       "        var button = (fig.buttons[name] = document.createElement('button'));\n",
       "        button.classList = 'mpl-widget';\n",
       "        button.setAttribute('role', 'button');\n",
       "        button.setAttribute('aria-disabled', 'false');\n",
       "        button.addEventListener('click', on_click_closure(method_name));\n",
       "        button.addEventListener('mouseover', on_mouseover_closure(tooltip));\n",
       "\n",
       "        var icon_img = document.createElement('img');\n",
       "        icon_img.src = '_images/' + image + '.png';\n",
       "        icon_img.srcset = '_images/' + image + '_large.png 2x';\n",
       "        icon_img.alt = tooltip;\n",
       "        button.appendChild(icon_img);\n",
       "\n",
       "        buttonGroup.appendChild(button);\n",
       "    }\n",
       "\n",
       "    if (buttonGroup.hasChildNodes()) {\n",
       "        toolbar.appendChild(buttonGroup);\n",
       "    }\n",
       "\n",
       "    var fmt_picker = document.createElement('select');\n",
       "    fmt_picker.classList = 'mpl-widget';\n",
       "    toolbar.appendChild(fmt_picker);\n",
       "    this.format_dropdown = fmt_picker;\n",
       "\n",
       "    for (var ind in mpl.extensions) {\n",
       "        var fmt = mpl.extensions[ind];\n",
       "        var option = document.createElement('option');\n",
       "        option.selected = fmt === mpl.default_extension;\n",
       "        option.innerHTML = fmt;\n",
       "        fmt_picker.appendChild(option);\n",
       "    }\n",
       "\n",
       "    var status_bar = document.createElement('span');\n",
       "    status_bar.classList = 'mpl-message';\n",
       "    toolbar.appendChild(status_bar);\n",
       "    this.message = status_bar;\n",
       "};\n",
       "\n",
       "mpl.figure.prototype.request_resize = function (x_pixels, y_pixels) {\n",
       "    // Request matplotlib to resize the figure. Matplotlib will then trigger a resize in the client,\n",
       "    // which will in turn request a refresh of the image.\n",
       "    this.send_message('resize', { width: x_pixels, height: y_pixels });\n",
       "};\n",
       "\n",
       "mpl.figure.prototype.send_message = function (type, properties) {\n",
       "    properties['type'] = type;\n",
       "    properties['figure_id'] = this.id;\n",
       "    this.ws.send(JSON.stringify(properties));\n",
       "};\n",
       "\n",
       "mpl.figure.prototype.send_draw_message = function () {\n",
       "    if (!this.waiting) {\n",
       "        this.waiting = true;\n",
       "        this.ws.send(JSON.stringify({ type: 'draw', figure_id: this.id }));\n",
       "    }\n",
       "};\n",
       "\n",
       "mpl.figure.prototype.handle_save = function (fig, _msg) {\n",
       "    var format_dropdown = fig.format_dropdown;\n",
       "    var format = format_dropdown.options[format_dropdown.selectedIndex].value;\n",
       "    fig.ondownload(fig, format);\n",
       "};\n",
       "\n",
       "mpl.figure.prototype.handle_resize = function (fig, msg) {\n",
       "    var size = msg['size'];\n",
       "    if (size[0] !== fig.canvas.width || size[1] !== fig.canvas.height) {\n",
       "        fig._resize_canvas(size[0], size[1], msg['forward']);\n",
       "        fig.send_message('refresh', {});\n",
       "    }\n",
       "};\n",
       "\n",
       "mpl.figure.prototype.handle_rubberband = function (fig, msg) {\n",
       "    var x0 = msg['x0'] / fig.ratio;\n",
       "    var y0 = (fig.canvas.height - msg['y0']) / fig.ratio;\n",
       "    var x1 = msg['x1'] / fig.ratio;\n",
       "    var y1 = (fig.canvas.height - msg['y1']) / fig.ratio;\n",
       "    x0 = Math.floor(x0) + 0.5;\n",
       "    y0 = Math.floor(y0) + 0.5;\n",
       "    x1 = Math.floor(x1) + 0.5;\n",
       "    y1 = Math.floor(y1) + 0.5;\n",
       "    var min_x = Math.min(x0, x1);\n",
       "    var min_y = Math.min(y0, y1);\n",
       "    var width = Math.abs(x1 - x0);\n",
       "    var height = Math.abs(y1 - y0);\n",
       "\n",
       "    fig.rubberband_context.clearRect(\n",
       "        0,\n",
       "        0,\n",
       "        fig.canvas.width / fig.ratio,\n",
       "        fig.canvas.height / fig.ratio\n",
       "    );\n",
       "\n",
       "    fig.rubberband_context.strokeRect(min_x, min_y, width, height);\n",
       "};\n",
       "\n",
       "mpl.figure.prototype.handle_figure_label = function (fig, msg) {\n",
       "    // Updates the figure title.\n",
       "    fig.header.textContent = msg['label'];\n",
       "};\n",
       "\n",
       "mpl.figure.prototype.handle_cursor = function (fig, msg) {\n",
       "    var cursor = msg['cursor'];\n",
       "    switch (cursor) {\n",
       "        case 0:\n",
       "            cursor = 'pointer';\n",
       "            break;\n",
       "        case 1:\n",
       "            cursor = 'default';\n",
       "            break;\n",
       "        case 2:\n",
       "            cursor = 'crosshair';\n",
       "            break;\n",
       "        case 3:\n",
       "            cursor = 'move';\n",
       "            break;\n",
       "    }\n",
       "    fig.rubberband_canvas.style.cursor = cursor;\n",
       "};\n",
       "\n",
       "mpl.figure.prototype.handle_message = function (fig, msg) {\n",
       "    fig.message.textContent = msg['message'];\n",
       "};\n",
       "\n",
       "mpl.figure.prototype.handle_draw = function (fig, _msg) {\n",
       "    // Request the server to send over a new figure.\n",
       "    fig.send_draw_message();\n",
       "};\n",
       "\n",
       "mpl.figure.prototype.handle_image_mode = function (fig, msg) {\n",
       "    fig.image_mode = msg['mode'];\n",
       "};\n",
       "\n",
       "mpl.figure.prototype.handle_history_buttons = function (fig, msg) {\n",
       "    for (var key in msg) {\n",
       "        if (!(key in fig.buttons)) {\n",
       "            continue;\n",
       "        }\n",
       "        fig.buttons[key].disabled = !msg[key];\n",
       "        fig.buttons[key].setAttribute('aria-disabled', !msg[key]);\n",
       "    }\n",
       "};\n",
       "\n",
       "mpl.figure.prototype.handle_navigate_mode = function (fig, msg) {\n",
       "    if (msg['mode'] === 'PAN') {\n",
       "        fig.buttons['Pan'].classList.add('active');\n",
       "        fig.buttons['Zoom'].classList.remove('active');\n",
       "    } else if (msg['mode'] === 'ZOOM') {\n",
       "        fig.buttons['Pan'].classList.remove('active');\n",
       "        fig.buttons['Zoom'].classList.add('active');\n",
       "    } else {\n",
       "        fig.buttons['Pan'].classList.remove('active');\n",
       "        fig.buttons['Zoom'].classList.remove('active');\n",
       "    }\n",
       "};\n",
       "\n",
       "mpl.figure.prototype.updated_canvas_event = function () {\n",
       "    // Called whenever the canvas gets updated.\n",
       "    this.send_message('ack', {});\n",
       "};\n",
       "\n",
       "// A function to construct a web socket function for onmessage handling.\n",
       "// Called in the figure constructor.\n",
       "mpl.figure.prototype._make_on_message_function = function (fig) {\n",
       "    return function socket_on_message(evt) {\n",
       "        if (evt.data instanceof Blob) {\n",
       "            /* FIXME: We get \"Resource interpreted as Image but\n",
       "             * transferred with MIME type text/plain:\" errors on\n",
       "             * Chrome.  But how to set the MIME type?  It doesn't seem\n",
       "             * to be part of the websocket stream */\n",
       "            evt.data.type = 'image/png';\n",
       "\n",
       "            /* Free the memory for the previous frames */\n",
       "            if (fig.imageObj.src) {\n",
       "                (window.URL || window.webkitURL).revokeObjectURL(\n",
       "                    fig.imageObj.src\n",
       "                );\n",
       "            }\n",
       "\n",
       "            fig.imageObj.src = (window.URL || window.webkitURL).createObjectURL(\n",
       "                evt.data\n",
       "            );\n",
       "            fig.updated_canvas_event();\n",
       "            fig.waiting = false;\n",
       "            return;\n",
       "        } else if (\n",
       "            typeof evt.data === 'string' &&\n",
       "            evt.data.slice(0, 21) === 'data:image/png;base64'\n",
       "        ) {\n",
       "            fig.imageObj.src = evt.data;\n",
       "            fig.updated_canvas_event();\n",
       "            fig.waiting = false;\n",
       "            return;\n",
       "        }\n",
       "\n",
       "        var msg = JSON.parse(evt.data);\n",
       "        var msg_type = msg['type'];\n",
       "\n",
       "        // Call the  \"handle_{type}\" callback, which takes\n",
       "        // the figure and JSON message as its only arguments.\n",
       "        try {\n",
       "            var callback = fig['handle_' + msg_type];\n",
       "        } catch (e) {\n",
       "            console.log(\n",
       "                \"No handler for the '\" + msg_type + \"' message type: \",\n",
       "                msg\n",
       "            );\n",
       "            return;\n",
       "        }\n",
       "\n",
       "        if (callback) {\n",
       "            try {\n",
       "                // console.log(\"Handling '\" + msg_type + \"' message: \", msg);\n",
       "                callback(fig, msg);\n",
       "            } catch (e) {\n",
       "                console.log(\n",
       "                    \"Exception inside the 'handler_\" + msg_type + \"' callback:\",\n",
       "                    e,\n",
       "                    e.stack,\n",
       "                    msg\n",
       "                );\n",
       "            }\n",
       "        }\n",
       "    };\n",
       "};\n",
       "\n",
       "// from http://stackoverflow.com/questions/1114465/getting-mouse-location-in-canvas\n",
       "mpl.findpos = function (e) {\n",
       "    //this section is from http://www.quirksmode.org/js/events_properties.html\n",
       "    var targ;\n",
       "    if (!e) {\n",
       "        e = window.event;\n",
       "    }\n",
       "    if (e.target) {\n",
       "        targ = e.target;\n",
       "    } else if (e.srcElement) {\n",
       "        targ = e.srcElement;\n",
       "    }\n",
       "    if (targ.nodeType === 3) {\n",
       "        // defeat Safari bug\n",
       "        targ = targ.parentNode;\n",
       "    }\n",
       "\n",
       "    // pageX,Y are the mouse positions relative to the document\n",
       "    var boundingRect = targ.getBoundingClientRect();\n",
       "    var x = e.pageX - (boundingRect.left + document.body.scrollLeft);\n",
       "    var y = e.pageY - (boundingRect.top + document.body.scrollTop);\n",
       "\n",
       "    return { x: x, y: y };\n",
       "};\n",
       "\n",
       "/*\n",
       " * return a copy of an object with only non-object keys\n",
       " * we need this to avoid circular references\n",
       " * http://stackoverflow.com/a/24161582/3208463\n",
       " */\n",
       "function simpleKeys(original) {\n",
       "    return Object.keys(original).reduce(function (obj, key) {\n",
       "        if (typeof original[key] !== 'object') {\n",
       "            obj[key] = original[key];\n",
       "        }\n",
       "        return obj;\n",
       "    }, {});\n",
       "}\n",
       "\n",
       "mpl.figure.prototype.mouse_event = function (event, name) {\n",
       "    var canvas_pos = mpl.findpos(event);\n",
       "\n",
       "    if (name === 'button_press') {\n",
       "        this.canvas.focus();\n",
       "        this.canvas_div.focus();\n",
       "    }\n",
       "\n",
       "    var x = canvas_pos.x * this.ratio;\n",
       "    var y = canvas_pos.y * this.ratio;\n",
       "\n",
       "    this.send_message(name, {\n",
       "        x: x,\n",
       "        y: y,\n",
       "        button: event.button,\n",
       "        step: event.step,\n",
       "        guiEvent: simpleKeys(event),\n",
       "    });\n",
       "\n",
       "    /* This prevents the web browser from automatically changing to\n",
       "     * the text insertion cursor when the button is pressed.  We want\n",
       "     * to control all of the cursor setting manually through the\n",
       "     * 'cursor' event from matplotlib */\n",
       "    event.preventDefault();\n",
       "    return false;\n",
       "};\n",
       "\n",
       "mpl.figure.prototype._key_event_extra = function (_event, _name) {\n",
       "    // Handle any extra behaviour associated with a key event\n",
       "};\n",
       "\n",
       "mpl.figure.prototype.key_event = function (event, name) {\n",
       "    // Prevent repeat events\n",
       "    if (name === 'key_press') {\n",
       "        if (event.which === this._key) {\n",
       "            return;\n",
       "        } else {\n",
       "            this._key = event.which;\n",
       "        }\n",
       "    }\n",
       "    if (name === 'key_release') {\n",
       "        this._key = null;\n",
       "    }\n",
       "\n",
       "    var value = '';\n",
       "    if (event.ctrlKey && event.which !== 17) {\n",
       "        value += 'ctrl+';\n",
       "    }\n",
       "    if (event.altKey && event.which !== 18) {\n",
       "        value += 'alt+';\n",
       "    }\n",
       "    if (event.shiftKey && event.which !== 16) {\n",
       "        value += 'shift+';\n",
       "    }\n",
       "\n",
       "    value += 'k';\n",
       "    value += event.which.toString();\n",
       "\n",
       "    this._key_event_extra(event, name);\n",
       "\n",
       "    this.send_message(name, { key: value, guiEvent: simpleKeys(event) });\n",
       "    return false;\n",
       "};\n",
       "\n",
       "mpl.figure.prototype.toolbar_button_onclick = function (name) {\n",
       "    if (name === 'download') {\n",
       "        this.handle_save(this, null);\n",
       "    } else {\n",
       "        this.send_message('toolbar_button', { name: name });\n",
       "    }\n",
       "};\n",
       "\n",
       "mpl.figure.prototype.toolbar_button_onmouseover = function (tooltip) {\n",
       "    this.message.textContent = tooltip;\n",
       "};\n",
       "mpl.toolbar_items = [[\"Home\", \"Reset original view\", \"fa fa-home icon-home\", \"home\"], [\"Back\", \"Back to previous view\", \"fa fa-arrow-left icon-arrow-left\", \"back\"], [\"Forward\", \"Forward to next view\", \"fa fa-arrow-right icon-arrow-right\", \"forward\"], [\"\", \"\", \"\", \"\"], [\"Pan\", \"Left button pans, Right button zooms\\nx/y fixes axis, CTRL fixes aspect\", \"fa fa-arrows icon-move\", \"pan\"], [\"Zoom\", \"Zoom to rectangle\\nx/y fixes axis, CTRL fixes aspect\", \"fa fa-square-o icon-check-empty\", \"zoom\"], [\"\", \"\", \"\", \"\"], [\"Download\", \"Download plot\", \"fa fa-floppy-o icon-save\", \"download\"]];\n",
       "\n",
       "mpl.extensions = [\"eps\", \"jpeg\", \"pdf\", \"png\", \"ps\", \"raw\", \"svg\", \"tif\"];\n",
       "\n",
       "mpl.default_extension = \"png\";/* global mpl */\n",
       "\n",
       "var comm_websocket_adapter = function (comm) {\n",
       "    // Create a \"websocket\"-like object which calls the given IPython comm\n",
       "    // object with the appropriate methods. Currently this is a non binary\n",
       "    // socket, so there is still some room for performance tuning.\n",
       "    var ws = {};\n",
       "\n",
       "    ws.close = function () {\n",
       "        comm.close();\n",
       "    };\n",
       "    ws.send = function (m) {\n",
       "        //console.log('sending', m);\n",
       "        comm.send(m);\n",
       "    };\n",
       "    // Register the callback with on_msg.\n",
       "    comm.on_msg(function (msg) {\n",
       "        //console.log('receiving', msg['content']['data'], msg);\n",
       "        // Pass the mpl event to the overridden (by mpl) onmessage function.\n",
       "        ws.onmessage(msg['content']['data']);\n",
       "    });\n",
       "    return ws;\n",
       "};\n",
       "\n",
       "mpl.mpl_figure_comm = function (comm, msg) {\n",
       "    // This is the function which gets called when the mpl process\n",
       "    // starts-up an IPython Comm through the \"matplotlib\" channel.\n",
       "\n",
       "    var id = msg.content.data.id;\n",
       "    // Get hold of the div created by the display call when the Comm\n",
       "    // socket was opened in Python.\n",
       "    var element = document.getElementById(id);\n",
       "    var ws_proxy = comm_websocket_adapter(comm);\n",
       "\n",
       "    function ondownload(figure, _format) {\n",
       "        window.open(figure.canvas.toDataURL());\n",
       "    }\n",
       "\n",
       "    var fig = new mpl.figure(id, ws_proxy, ondownload, element);\n",
       "\n",
       "    // Call onopen now - mpl needs it, as it is assuming we've passed it a real\n",
       "    // web socket which is closed, not our websocket->open comm proxy.\n",
       "    ws_proxy.onopen();\n",
       "\n",
       "    fig.parent_element = element;\n",
       "    fig.cell_info = mpl.find_output_cell(\"<div id='\" + id + \"'></div>\");\n",
       "    if (!fig.cell_info) {\n",
       "        console.error('Failed to find cell for figure', id, fig);\n",
       "        return;\n",
       "    }\n",
       "    fig.cell_info[0].output_area.element.one(\n",
       "        'cleared',\n",
       "        { fig: fig },\n",
       "        fig._remove_fig_handler\n",
       "    );\n",
       "};\n",
       "\n",
       "mpl.figure.prototype.handle_close = function (fig, msg) {\n",
       "    var width = fig.canvas.width / fig.ratio;\n",
       "    fig.cell_info[0].output_area.element.off(\n",
       "        'cleared',\n",
       "        fig._remove_fig_handler\n",
       "    );\n",
       "\n",
       "    // Update the output cell to use the data from the current canvas.\n",
       "    fig.push_to_output();\n",
       "    var dataURL = fig.canvas.toDataURL();\n",
       "    // Re-enable the keyboard manager in IPython - without this line, in FF,\n",
       "    // the notebook keyboard shortcuts fail.\n",
       "    IPython.keyboard_manager.enable();\n",
       "    fig.parent_element.innerHTML =\n",
       "        '<img src=\"' + dataURL + '\" width=\"' + width + '\">';\n",
       "    fig.close_ws(fig, msg);\n",
       "};\n",
       "\n",
       "mpl.figure.prototype.close_ws = function (fig, msg) {\n",
       "    fig.send_message('closing', msg);\n",
       "    // fig.ws.close()\n",
       "};\n",
       "\n",
       "mpl.figure.prototype.push_to_output = function (_remove_interactive) {\n",
       "    // Turn the data on the canvas into data in the output cell.\n",
       "    var width = this.canvas.width / this.ratio;\n",
       "    var dataURL = this.canvas.toDataURL();\n",
       "    this.cell_info[1]['text/html'] =\n",
       "        '<img src=\"' + dataURL + '\" width=\"' + width + '\">';\n",
       "};\n",
       "\n",
       "mpl.figure.prototype.updated_canvas_event = function () {\n",
       "    // Tell IPython that the notebook contents must change.\n",
       "    IPython.notebook.set_dirty(true);\n",
       "    this.send_message('ack', {});\n",
       "    var fig = this;\n",
       "    // Wait a second, then push the new image to the DOM so\n",
       "    // that it is saved nicely (might be nice to debounce this).\n",
       "    setTimeout(function () {\n",
       "        fig.push_to_output();\n",
       "    }, 1000);\n",
       "};\n",
       "\n",
       "mpl.figure.prototype._init_toolbar = function () {\n",
       "    var fig = this;\n",
       "\n",
       "    var toolbar = document.createElement('div');\n",
       "    toolbar.classList = 'btn-toolbar';\n",
       "    this.root.appendChild(toolbar);\n",
       "\n",
       "    function on_click_closure(name) {\n",
       "        return function (_event) {\n",
       "            return fig.toolbar_button_onclick(name);\n",
       "        };\n",
       "    }\n",
       "\n",
       "    function on_mouseover_closure(tooltip) {\n",
       "        return function (event) {\n",
       "            if (!event.currentTarget.disabled) {\n",
       "                return fig.toolbar_button_onmouseover(tooltip);\n",
       "            }\n",
       "        };\n",
       "    }\n",
       "\n",
       "    fig.buttons = {};\n",
       "    var buttonGroup = document.createElement('div');\n",
       "    buttonGroup.classList = 'btn-group';\n",
       "    var button;\n",
       "    for (var toolbar_ind in mpl.toolbar_items) {\n",
       "        var name = mpl.toolbar_items[toolbar_ind][0];\n",
       "        var tooltip = mpl.toolbar_items[toolbar_ind][1];\n",
       "        var image = mpl.toolbar_items[toolbar_ind][2];\n",
       "        var method_name = mpl.toolbar_items[toolbar_ind][3];\n",
       "\n",
       "        if (!name) {\n",
       "            /* Instead of a spacer, we start a new button group. */\n",
       "            if (buttonGroup.hasChildNodes()) {\n",
       "                toolbar.appendChild(buttonGroup);\n",
       "            }\n",
       "            buttonGroup = document.createElement('div');\n",
       "            buttonGroup.classList = 'btn-group';\n",
       "            continue;\n",
       "        }\n",
       "\n",
       "        button = fig.buttons[name] = document.createElement('button');\n",
       "        button.classList = 'btn btn-default';\n",
       "        button.href = '#';\n",
       "        button.title = name;\n",
       "        button.innerHTML = '<i class=\"fa ' + image + ' fa-lg\"></i>';\n",
       "        button.addEventListener('click', on_click_closure(method_name));\n",
       "        button.addEventListener('mouseover', on_mouseover_closure(tooltip));\n",
       "        buttonGroup.appendChild(button);\n",
       "    }\n",
       "\n",
       "    if (buttonGroup.hasChildNodes()) {\n",
       "        toolbar.appendChild(buttonGroup);\n",
       "    }\n",
       "\n",
       "    // Add the status bar.\n",
       "    var status_bar = document.createElement('span');\n",
       "    status_bar.classList = 'mpl-message pull-right';\n",
       "    toolbar.appendChild(status_bar);\n",
       "    this.message = status_bar;\n",
       "\n",
       "    // Add the close button to the window.\n",
       "    var buttongrp = document.createElement('div');\n",
       "    buttongrp.classList = 'btn-group inline pull-right';\n",
       "    button = document.createElement('button');\n",
       "    button.classList = 'btn btn-mini btn-primary';\n",
       "    button.href = '#';\n",
       "    button.title = 'Stop Interaction';\n",
       "    button.innerHTML = '<i class=\"fa fa-power-off icon-remove icon-large\"></i>';\n",
       "    button.addEventListener('click', function (_evt) {\n",
       "        fig.handle_close(fig, {});\n",
       "    });\n",
       "    button.addEventListener(\n",
       "        'mouseover',\n",
       "        on_mouseover_closure('Stop Interaction')\n",
       "    );\n",
       "    buttongrp.appendChild(button);\n",
       "    var titlebar = this.root.querySelector('.ui-dialog-titlebar');\n",
       "    titlebar.insertBefore(buttongrp, titlebar.firstChild);\n",
       "};\n",
       "\n",
       "mpl.figure.prototype._remove_fig_handler = function (event) {\n",
       "    var fig = event.data.fig;\n",
       "    fig.close_ws(fig, {});\n",
       "};\n",
       "\n",
       "mpl.figure.prototype._root_extra_style = function (el) {\n",
       "    el.style.boxSizing = 'content-box'; // override notebook setting of border-box.\n",
       "};\n",
       "\n",
       "mpl.figure.prototype._canvas_extra_style = function (el) {\n",
       "    // this is important to make the div 'focusable\n",
       "    el.setAttribute('tabindex', 0);\n",
       "    // reach out to IPython and tell the keyboard manager to turn it's self\n",
       "    // off when our div gets focus\n",
       "\n",
       "    // location in version 3\n",
       "    if (IPython.notebook.keyboard_manager) {\n",
       "        IPython.notebook.keyboard_manager.register_events(el);\n",
       "    } else {\n",
       "        // location in version 2\n",
       "        IPython.keyboard_manager.register_events(el);\n",
       "    }\n",
       "};\n",
       "\n",
       "mpl.figure.prototype._key_event_extra = function (event, _name) {\n",
       "    var manager = IPython.notebook.keyboard_manager;\n",
       "    if (!manager) {\n",
       "        manager = IPython.keyboard_manager;\n",
       "    }\n",
       "\n",
       "    // Check for shift+enter\n",
       "    if (event.shiftKey && event.which === 13) {\n",
       "        this.canvas_div.blur();\n",
       "        // select the cell after this one\n",
       "        var index = IPython.notebook.find_cell_index(this.cell_info[0]);\n",
       "        IPython.notebook.select(index + 1);\n",
       "    }\n",
       "};\n",
       "\n",
       "mpl.figure.prototype.handle_save = function (fig, _msg) {\n",
       "    fig.ondownload(fig, null);\n",
       "};\n",
       "\n",
       "mpl.find_output_cell = function (html_output) {\n",
       "    // Return the cell and output element which can be found *uniquely* in the notebook.\n",
       "    // Note - this is a bit hacky, but it is done because the \"notebook_saving.Notebook\"\n",
       "    // IPython event is triggered only after the cells have been serialised, which for\n",
       "    // our purposes (turning an active figure into a static one), is too late.\n",
       "    var cells = IPython.notebook.get_cells();\n",
       "    var ncells = cells.length;\n",
       "    for (var i = 0; i < ncells; i++) {\n",
       "        var cell = cells[i];\n",
       "        if (cell.cell_type === 'code') {\n",
       "            for (var j = 0; j < cell.output_area.outputs.length; j++) {\n",
       "                var data = cell.output_area.outputs[j];\n",
       "                if (data.data) {\n",
       "                    // IPython >= 3 moved mimebundle to data attribute of output\n",
       "                    data = data.data;\n",
       "                }\n",
       "                if (data['text/html'] === html_output) {\n",
       "                    return [cell, data, j];\n",
       "                }\n",
       "            }\n",
       "        }\n",
       "    }\n",
       "};\n",
       "\n",
       "// Register the function which deals with the matplotlib target/channel.\n",
       "// The kernel may be null if the page has been refreshed.\n",
       "if (IPython.notebook.kernel !== null) {\n",
       "    IPython.notebook.kernel.comm_manager.register_target(\n",
       "        'matplotlib',\n",
       "        mpl.mpl_figure_comm\n",
       "    );\n",
       "}\n"
      ],
      "text/plain": [
       "<IPython.core.display.Javascript object>"
      ]
     },
     "metadata": {},
     "output_type": "display_data"
    },
    {
     "data": {
      "text/html": [
       "<img src=\"data:image/png;base64,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\" width=\"640\">"
      ],
      "text/plain": [
       "<IPython.core.display.HTML object>"
      ]
     },
     "metadata": {},
     "output_type": "display_data"
    },
    {
     "name": "stdout",
     "output_type": "stream",
     "text": [
      "784\n"
     ]
    }
   ],
   "source": [
    "img_array= cv2.imread(\"bw_image.jpg\", cv2.IMREAD_GRAYSCALE)\n",
    "img_array= cv2.bitwise_not(img_array)\n",
    "print(img_array.size)\n",
    "plt.imshow(img_array,cmap=plt.cm.binary)\n",
    "plt.show()\n",
    "img_size=28\n",
    "new_array = cv2.resize(img_array,(img_size,img_size))\n",
    "plt.imshow(new_array,cmap=plt.cm.binary)\n",
    "plt.show()\n",
    "print(new_array.size)"
   ]
  },
  {
   "cell_type": "code",
   "execution_count": 48,
   "metadata": {},
   "outputs": [
    {
     "name": "stdout",
     "output_type": "stream",
     "text": [
      "prob. distr. for 0 0.016771521\n",
      "prob. distr. for 1 0.0004096806\n",
      "prob. distr. for 2 0.8142975\n",
      "prob. distr. for 3 0.085637435\n",
      "prob. distr. for 4 0.00016085446\n",
      "prob. distr. for 5 0.00033867394\n",
      "prob. distr. for 6 0.05555079\n",
      "prob. distr. for 7 0.00012708652\n",
      "prob. distr. for 8 0.026449943\n",
      "prob. distr. for 9 0.00025644433\n"
     ]
    }
   ],
   "source": [
    "user_test =  tf.keras.utils.normalize(new_array,axis=1)\n",
    "user_test=user_test.reshape(-1,img_size,img_size) \n",
    "predictions= model.predict(user_test)\n",
    "a=predictions[0][0]\n",
    "for i in range(0,10):\n",
    "    b=predictions[0][i]\n",
    "    print(\"prob. distr. for\",i,b)\n"
   ]
  },
  {
   "cell_type": "code",
   "execution_count": 49,
   "metadata": {},
   "outputs": [
    {
     "name": "stdout",
     "output_type": "stream",
     "text": [
      "the predicted value is 2\n"
     ]
    }
   ],
   "source": [
    "print(\"the predicted value is\",np.argmax(predictions[0]))"
   ]
  },
  {
   "cell_type": "code",
   "execution_count": null,
   "metadata": {},
   "outputs": [],
   "source": []
  },
  {
   "cell_type": "code",
   "execution_count": null,
   "metadata": {},
   "outputs": [],
   "source": []
  },
  {
   "cell_type": "code",
   "execution_count": null,
   "metadata": {},
   "outputs": [],
   "source": [
    "\n"
   ]
  },
  {
   "cell_type": "code",
   "execution_count": null,
   "metadata": {},
   "outputs": [],
   "source": []
  }
 ],
 "metadata": {
  "kernelspec": {
   "display_name": "Python 3",
   "language": "python",
   "name": "python3"
  },
  "language_info": {
   "codemirror_mode": {
    "name": "ipython",
    "version": 3
   },
   "file_extension": ".py",
   "mimetype": "text/x-python",
   "name": "python",
   "nbconvert_exporter": "python",
   "pygments_lexer": "ipython3",
   "version": "3.8.5"
  }
 },
 "nbformat": 4,
 "nbformat_minor": 4
}
